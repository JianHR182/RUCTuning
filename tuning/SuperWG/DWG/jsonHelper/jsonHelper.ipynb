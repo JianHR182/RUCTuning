{
 "cells": [
  {
   "cell_type": "code",
   "execution_count": 4,
   "metadata": {
    "pycharm": {
     "name": "#%%\n"
    }
   },
   "outputs": [],
   "source": [
    "import paramiko\n",
    "\n",
    "ssh_client = paramiko.SSHClient()\n",
    "ssh_client.set_missing_host_key_policy(paramiko.AutoAddPolicy())\n",
    "ssh_client.connect(hostname=\"182.92.85.148\", username=\"omm\", password=\"opgs1234321#\")"
   ]
  },
  {
   "cell_type": "code",
   "execution_count": 7,
   "metadata": {
    "pycharm": {
     "name": "#%%\n"
    }
   },
   "outputs": [
    {
     "name": "stdout",
     "output_type": "stream",
     "text": [
      "<class 'str'> omm\n",
      "\n"
     ]
    }
   ],
   "source": [
    "stdin, stdout, stderr = ssh_client.exec_command('whoami')\n",
    "output = stdout.read().decode()\n",
    "print(type(output),output)\n",
    "if output==\"omm\":\n",
    "    print(\"hello\")"
   ]
  },
  {
   "cell_type": "code",
   "execution_count": 10,
   "metadata": {
    "pycharm": {
     "name": "#%%\n"
    }
   },
   "outputs": [
    {
     "name": "stdout",
     "output_type": "stream",
     "text": [
      "omm\n",
      "hello\n"
     ]
    }
   ],
   "source": [
    "import re\n",
    "str1= output\n",
    "pattern = r\"[a-zA-Z]+\\n?\"\n",
    "str2 = re.sub(pattern, lambda m: m.group().strip(), str1)\n",
    "print(str2)\n",
    "if str2==\"omm\":\n",
    "    print(\"hello\")"
   ]
  },
  {
   "cell_type": "code",
   "execution_count": 5,
   "metadata": {
    "pycharm": {
     "name": "#%%\n"
    }
   },
   "outputs": [
    {
     "name": "stdout",
     "output_type": "stream",
     "text": [
      "gs_dump[port='15400'][dwg][2023-07-12 17:17:00]: The total objects number is 520.\n",
      "gs_dump[port='15400'][dwg][2023-07-12 17:17:00]: [100.00%] 520 objects have been dumped.\n",
      "gs_dump[port='15400'][dwg][2023-07-12 17:17:01]: dump database dwg successfully\n",
      "gs_dump[port='15400'][dwg][2023-07-12 17:17:01]: total time: 3109  ms\n",
      "\n"
     ]
    }
   ],
   "source": [
    "stdin, stdout, stderr = ssh_client.exec_command('gs_dump -U jikun -f /home/tianjikun/schema/test.sql -p 15400 dwg -n public -F p')\n",
    "stdin.write('tianjikun123@\\n')\n",
    "stdin.flush()\n",
    "output = stdout.read().decode()\n",
    "print(output)"
   ]
  },
  {
   "cell_type": "code",
   "execution_count": 6,
   "metadata": {
    "pycharm": {
     "name": "#%%\n"
    }
   },
   "outputs": [],
   "source": [
    "# sftp_client = ssh_client.open_sftp()\n",
    "# with sftp_client.open(\"/home/tianjikun/schema/test.sql\", 'r') as f:\n",
    "#     content=f.read()\n",
    "sftp_client = ssh_client.open_sftp()\n",
    "sftp_client.get(localpath='data/test.sql', remotepath='/home/tianjikun/schema/test.sql')\n",
    "sftp_client.close()"
   ]
  },
  {
   "cell_type": "code",
   "execution_count": 21,
   "metadata": {
    "pycharm": {
     "name": "#%%\n"
    }
   },
   "outputs": [
    {
     "name": "stdout",
     "output_type": "stream",
     "text": [
      "<class 'str'> 2931820\n"
     ]
    }
   ],
   "source": [
    "with open(\"data/test.sql\", 'r') as f:\n",
    "    content=f.read()\n",
    "print(type(content),len(content))"
   ]
  },
  {
   "cell_type": "code",
   "execution_count": 49,
   "metadata": {
    "pycharm": {
     "name": "#%%\n"
    }
   },
   "outputs": [
    {
     "name": "stdout",
     "output_type": "stream",
     "text": [
      "567\n",
      " Tablespace: \n",
      "--\n",
      "\n",
      "CREATE TABLE tb01 (\n",
      "    col1 double precision,\n",
      "    col2 integer,\n",
      "    col3 integer,\n",
      "    col4 double precision\n",
      ")\n",
      "WITH (orientation=row, compression=no)\n",
      " Tablespace: \n",
      "--\n",
      "\n",
      "CREATE TABLE tb02 (\n",
      "    col1 double precision,\n",
      "    col2 integer,\n",
      "    col3 integer,\n",
      "    col4 double precision\n",
      ")\n",
      "WITH (orientation=row, compression=no)\n",
      " Tablespace: \n",
      "--\n",
      "\n",
      "CREATE TABLE tb03 (\n",
      "    col1 double precision,\n",
      "    col2 integer,\n",
      "    col3 integer,\n",
      "    col4 double precision\n",
      ")\n",
      "WITH (orientation=row, compression=no)\n",
      " Tablespace: \n",
      "--\n",
      "\n",
      "CREATE TABLE tb04 (\n",
      "    col1 double precision,\n",
      "    col2 integer,\n",
      "    col3 integer,\n",
      "    col4 double precision\n",
      ")\n",
      "WITH (orientation=row, compression=no)\n",
      " Tablespace: \n",
      "--\n",
      "\n",
      "CREATE TABLE tb05 (\n",
      "    col1 double precision,\n",
      "    col2 integer,\n",
      "    col3 integer,\n",
      "    col4 double precision\n",
      ")\n",
      "WITH (orientation=row, compression=no)\n",
      " Tablespace: \n",
      "--\n",
      "\n",
      "CREATE TABLE tb06 (\n",
      "    col1 double precision,\n",
      "    col2 integer,\n",
      "    col3 integer,\n",
      "    col4 double precision\n",
      ")\n",
      "WITH (orientation=row, compression=no)\n",
      " Tablespace: \n",
      "--\n",
      "\n",
      "CREATE TABLE tb07 (\n",
      "    col1 double precision,\n",
      "    col2 integer,\n",
      "    col3 integer,\n",
      "    col4 double precision\n",
      ")\n",
      "WITH (orientation=row, compression=no)\n",
      " Tablespace: \n",
      "--\n",
      "\n",
      "CREATE TABLE tb08 (\n",
      "    col1 double precision,\n",
      "    col2 integer,\n",
      "    col3 integer,\n",
      "    col4 double precision\n",
      ")\n",
      "WITH (orientation=row, compression=no)\n",
      " Tablespace: \n",
      "--\n",
      "\n",
      "CREATE TABLE tb09 (\n",
      "    col1 double precision,\n",
      "    col2 integer,\n",
      "    col3 integer,\n",
      "    col4 double precision\n",
      ")\n",
      "WITH (orientation=row, compression=no)\n",
      " Tablespace: \n",
      "--\n",
      "\n",
      "CREATE TABLE tb10 (\n",
      "    col1 double precision,\n",
      "    col2 integer,\n",
      "    col3 integer,\n",
      "    col4 double precision\n",
      ")\n",
      "WITH (orientation=row, compression=no)\n",
      " Tablespace: \n",
      "--\n",
      "\n",
      "CREATE TABLE tb11 (\n",
      "    col1 double precision,\n",
      "    col2 integer,\n",
      "    col3 integer,\n",
      "    col4 double precision\n",
      ")\n",
      "WITH (orientation=row, compression=no)\n",
      " Tablespace: \n",
      "--\n",
      "\n",
      "CREATE TABLE tb12 (\n",
      "    col1 double precision,\n",
      "    col2 integer,\n",
      "    col3 integer,\n",
      "    col4 double precision\n",
      ")\n",
      "WITH (orientation=row, compression=no)\n",
      " Tablespace: \n",
      "--\n",
      "\n",
      "CREATE TABLE tb13 (\n",
      "    col1 double precision,\n",
      "    col2 integer,\n",
      "    col3 integer,\n",
      "    col4 double precision\n",
      ")\n",
      "WITH (orientation=row, compression=no)\n",
      " Tablespace: \n",
      "--\n",
      "\n",
      "CREATE TABLE tb14 (\n",
      "    col1 double precision,\n",
      "    col2 integer,\n",
      "    col3 integer,\n",
      "    col4 double precision\n",
      ")\n",
      "WITH (orientation=row, compression=no)\n",
      " Tablespace: \n",
      "--\n",
      "\n",
      "CREATE TABLE tb15 (\n",
      "    col1 double precision,\n",
      "    col2 integer,\n",
      "    col3 integer,\n",
      "    col4 double precision\n",
      ")\n",
      "WITH (orientation=row, compression=no)\n",
      " Tablespace: \n",
      "--\n",
      "\n",
      "CREATE TABLE tb16 (\n",
      "    col1 double precision,\n",
      "    col2 integer,\n",
      "    col3 integer,\n",
      "    col4 double precision\n",
      ")\n",
      "WITH (orientation=row, compression=no)\n",
      " Tablespace: \n",
      "--\n",
      "\n",
      "CREATE TABLE tb17 (\n",
      "    col1 double precision,\n",
      "    col2 integer,\n",
      "    col3 integer,\n",
      "    col4 double precision\n",
      ")\n",
      "WITH (orientation=row, compression=no)\n",
      " Tablespace: \n",
      "--\n",
      "\n",
      "CREATE TABLE tb18 (\n",
      "    col1 double precision,\n",
      "    col2 integer,\n",
      "    col3 integer,\n",
      "    col4 double precision\n",
      ")\n",
      "WITH (orientation=row, compression=no)\n",
      " Tablespace: \n",
      "--\n",
      "\n",
      "CREATE TABLE tb19 (\n",
      "    col1 double precision,\n",
      "    col2 integer,\n",
      "    col3 integer,\n",
      "    col4 double precision\n",
      ")\n",
      "WITH (orientation=row, compression=no)\n",
      " Tablespace: \n",
      "--\n",
      "\n",
      "CREATE TABLE tb20 (\n",
      "    col1 double precision,\n",
      "    col2 integer,\n",
      "    col3 integer,\n",
      "    col4 double precision\n",
      ")\n",
      "WITH (orientation=row, compression=no)\n",
      " Tablespace: \n",
      "--\n",
      "\n",
      "CREATE TABLE tb21 (\n",
      "    col1 double precision,\n",
      "    col2 integer,\n",
      "    col3 integer,\n",
      "    col4 double precision\n",
      ")\n",
      "WITH (orientation=row, compression=no)\n",
      " Tablespace: \n",
      "--\n",
      "\n",
      "CREATE TABLE tb22 (\n",
      "    col1 double precision,\n",
      "    col2 integer,\n",
      "    col3 integer,\n",
      "    col4 double precision\n",
      ")\n",
      "WITH (orientation=row, compression=no)\n",
      " Tablespace: \n",
      "--\n",
      "\n",
      "CREATE TABLE tb23 (\n",
      "    col1 double precision,\n",
      "    col2 integer,\n",
      "    col3 integer,\n",
      "    col4 double precision\n",
      ")\n",
      "WITH (orientation=row, compression=no)\n",
      " Tablespace: \n",
      "--\n",
      "\n",
      "CREATE TABLE tb24 (\n",
      "    col1 double precision,\n",
      "    col2 integer,\n",
      "    col3 integer,\n",
      "    col4 double precision\n",
      ")\n",
      "WITH (orientation=row, compression=no)\n",
      " Tablespace: \n",
      "--\n",
      "\n",
      "CREATE TABLE tb25 (\n",
      "    col1 double precision,\n",
      "    col2 integer,\n",
      "    col3 integer,\n",
      "    col4 double precision\n",
      ")\n",
      "WITH (orientation=row, compression=no)\n",
      " Tablespace: \n",
      "--\n",
      "\n",
      "CREATE TABLE tb26 (\n",
      "    col1 double precision,\n",
      "    col2 integer,\n",
      "    col3 integer,\n",
      "    col4 double precision\n",
      ")\n",
      "WITH (orientation=row, compression=no)\n",
      " Tablespace: \n",
      "--\n",
      "\n",
      "CREATE TABLE tb27 (\n",
      "    col1 double precision,\n",
      "    col2 integer,\n",
      "    col3 integer,\n",
      "    col4 double precision\n",
      ")\n",
      "WITH (orientation=row, compression=no)\n",
      " Tablespace: \n",
      "--\n",
      "\n",
      "CREATE TABLE tb28 (\n",
      "    col1 double precision,\n",
      "    col2 integer,\n",
      "    col3 integer,\n",
      "    col4 double precision\n",
      ")\n",
      "WITH (orientation=row, compression=no)\n",
      " Tablespace: \n",
      "--\n",
      "\n",
      "CREATE TABLE tb29 (\n",
      "    col1 double precision,\n",
      "    col2 integer,\n",
      "    col3 integer,\n",
      "    col4 double precision\n",
      ")\n",
      "WITH (orientation=row, compression=no)\n",
      " Tablespace: \n",
      "--\n",
      "\n",
      "CREATE TABLE tb30 (\n",
      "    col1 double precision,\n",
      "    col2 integer,\n",
      "    col3 integer,\n",
      "    col4 double precision\n",
      ")\n",
      "WITH (orientation=row, compression=no)\n",
      " Tablespace: \n",
      "--\n",
      "\n",
      "CREATE TABLE tb31 (\n",
      "    col1 double precision,\n",
      "    col2 integer,\n",
      "    col3 integer,\n",
      "    col4 double precision\n",
      ")\n",
      "WITH (orientation=row, compression=no)\n",
      " Tablespace: \n",
      "--\n",
      "\n",
      "CREATE TABLE tb32 (\n",
      "    col1 double precision,\n",
      "    col2 integer,\n",
      "    col3 integer,\n",
      "    col4 double precision\n",
      ")\n",
      "WITH (orientation=row, compression=no)\n",
      " Tablespace: \n",
      "--\n",
      "\n",
      "CREATE TABLE tb33 (\n",
      "    col1 double precision,\n",
      "    col2 integer,\n",
      "    col3 integer,\n",
      "    col4 double precision\n",
      ")\n",
      "WITH (orientation=row, compression=no)\n",
      " Tablespace: \n",
      "--\n",
      "\n",
      "CREATE TABLE tb34 (\n",
      "    col1 double precision,\n",
      "    col2 integer,\n",
      "    col3 integer,\n",
      "    col4 double precision\n",
      ")\n",
      "WITH (orientation=row, compression=no)\n",
      " Tablespace: \n",
      "--\n",
      "\n",
      "CREATE TABLE tb35 (\n",
      "    col1 double precision,\n",
      "    col2 integer,\n",
      "    col3 integer,\n",
      "    col4 double precision\n",
      ")\n",
      "WITH (orientation=row, compression=no)\n",
      " Tablespace: \n",
      "--\n",
      "\n",
      "CREATE TABLE tb36 (\n",
      "    col1 double precision,\n",
      "    col2 integer,\n",
      "    col3 integer,\n",
      "    col4 double precision\n",
      ")\n",
      "WITH (orientation=row, compression=no)\n",
      " Tablespace: \n",
      "--\n",
      "\n",
      "CREATE TABLE tb37 (\n",
      "    col1 double precision,\n",
      "    col2 integer,\n",
      "    col3 integer,\n",
      "    col4 double precision\n",
      ")\n",
      "WITH (orientation=row, compression=no)\n",
      " Tablespace: \n",
      "--\n",
      "\n",
      "CREATE TABLE tb38 (\n",
      "    col1 double precision,\n",
      "    col2 integer,\n",
      "    col3 integer,\n",
      "    col4 double precision\n",
      ")\n",
      "WITH (orientation=row, compression=no)\n",
      " Tablespace: \n",
      "--\n",
      "\n",
      "CREATE TABLE tb39 (\n",
      "    col1 double precision,\n",
      "    col2 integer,\n",
      "    col3 integer,\n",
      "    col4 double precision\n",
      ")\n",
      "WITH (orientation=row, compression=no)\n",
      " Tablespace: \n",
      "--\n",
      "\n",
      "CREATE TABLE tb40 (\n",
      "    col1 double precision,\n",
      "    col2 integer,\n",
      "    col3 integer,\n",
      "    col4 double precision\n",
      ")\n",
      "WITH (orientation=row, compression=no)\n",
      " Tablespace: \n",
      "--\n",
      "\n",
      "CREATE TABLE tb41 (\n",
      "    col1 double precision,\n",
      "    col2 integer,\n",
      "    col3 integer,\n",
      "    col4 double precision\n",
      ")\n",
      "WITH (orientation=row, compression=no)\n",
      " Tablespace: \n",
      "--\n",
      "\n",
      "CREATE TABLE tb42 (\n",
      "    col1 double precision,\n",
      "    col2 integer,\n",
      "    col3 integer,\n",
      "    col4 double precision\n",
      ")\n",
      "WITH (orientation=row, compression=no)\n",
      " Tablespace: \n",
      "--\n",
      "\n",
      "CREATE TABLE tb43 (\n",
      "    col1 double precision,\n",
      "    col2 integer,\n",
      "    col3 integer,\n",
      "    col4 double precision\n",
      ")\n",
      "WITH (orientation=row, compression=no)\n",
      " Tablespace: \n",
      "--\n",
      "\n",
      "CREATE TABLE tb44 (\n",
      "    col1 double precision,\n",
      "    col2 integer,\n",
      "    col3 integer,\n",
      "    col4 double precision\n",
      ")\n",
      "WITH (orientation=row, compression=no)\n",
      " Tablespace: \n",
      "--\n",
      "\n",
      "CREATE TABLE tb45 (\n",
      "    col1 double precision,\n",
      "    col2 integer,\n",
      "    col3 integer,\n",
      "    col4 double precision\n",
      ")\n",
      "WITH (orientation=row, compression=no)\n",
      " Tablespace: \n",
      "--\n",
      "\n",
      "CREATE TABLE tb46 (\n",
      "    col1 double precision,\n",
      "    col2 integer,\n",
      "    col3 integer,\n",
      "    col4 double precision\n",
      ")\n",
      "WITH (orientation=row, compression=no)\n",
      " Tablespace: \n",
      "--\n",
      "\n",
      "CREATE TABLE tb47 (\n",
      "    col1 double precision,\n",
      "    col2 integer,\n",
      "    col3 integer,\n",
      "    col4 double precision\n",
      ")\n",
      "WITH (orientation=row, compression=no)\n",
      " Tablespace: \n",
      "--\n",
      "\n",
      "CREATE TABLE tb48 (\n",
      "    col1 double precision,\n",
      "    col2 integer,\n",
      "    col3 integer,\n",
      "    col4 double precision\n",
      ")\n",
      "WITH (orientation=row, compression=no)\n",
      " Tablespace: \n",
      "--\n",
      "\n",
      "CREATE TABLE tb49 (\n",
      "    col1 double precision,\n",
      "    col2 integer,\n",
      "    col3 integer,\n",
      "    col4 double precision\n",
      ")\n",
      "WITH (orientation=row, compression=no)\n",
      " Tablespace: \n",
      "--\n",
      "\n",
      "CREATE TABLE tb50 (\n",
      "    col1 double precision,\n",
      "    col2 integer,\n",
      "    col3 integer,\n",
      "    col4 double precision\n",
      ")\n",
      "WITH (orientation=row, compression=no)\n"
     ]
    }
   ],
   "source": [
    "import re\n",
    "content_split=re.split('[\\n]*;+[\\n]*',content)\n",
    "print(len(content_split))\n",
    "# content_split = re.sub('\\n', '', content_split)\n",
    "real_content=[]\n",
    "for it in content_split:\n",
    "    if \"CREATE\" in it and \"GRANT\" not in it:\n",
    "        print(it)\n",
    "        real_content.append(it)"
   ]
  },
  {
   "cell_type": "code",
   "execution_count": 50,
   "metadata": {
    "pycharm": {
     "name": "#%%\n"
    }
   },
   "outputs": [
    {
     "name": "stdout",
     "output_type": "stream",
     "text": [
      "Table name: example_table\n",
      "Columns:\n",
      "- Name: id, Type: int\n",
      "- Name: name, Type: varchar\n",
      "- Name: age, Type: int\n"
     ]
    }
   ],
   "source": [
    "import re\n",
    "\n",
    "# create_table_sql=real_content\n",
    "create_table_sql=''' Tablespace: \n",
    "--\n",
    "\n",
    "CREATE TABLE tb23 (\n",
    "    col1 double precision,\n",
    "    col2 integer,\n",
    "    col3 integer,\n",
    "    col4 double precision\n",
    ")\n",
    "WITH (orientation=row, compression=no)\n",
    "'''\n",
    "\n",
    "create_table_sql = \"CREATE TABLE example_table (id int, name varchar(255), age int)\"\n",
    "table_name_pattern = r\"CREATE TABLE (\\w+)\"\n",
    "column_pattern = r\"(\\w+) ([a-zA-Z]+)(\\(\\d+\\))?\"\n",
    "\n",
    "table_name_match = re.search(table_name_pattern, create_table_sql)\n",
    "table_name = table_name_match.group(1)\n",
    "\n",
    "columns = []\n",
    "column_matches = re.findall(column_pattern, create_table_sql)\n",
    "for column_match in column_matches:\n",
    "    column_name = column_match[0]\n",
    "    column_type = column_match[1]\n",
    "    if column_name.upper()==\"CREATE\":\n",
    "        pass\n",
    "    else:\n",
    "        columns.append((column_name, column_type))\n",
    "\n",
    "print(f\"Table name: {table_name}\")\n",
    "print(\"Columns:\")\n",
    "for column in columns:\n",
    "    print(f\"- Name: {column[0]}, Type: {column[1]}\")"
   ]
  },
  {
   "cell_type": "code",
   "execution_count": 51,
   "metadata": {
    "pycharm": {
     "name": "#%%\n"
    }
   },
   "outputs": [],
   "source": [
    "def parseSQL2json(create_table_sql):\n",
    "    table_name_pattern = r\"CREATE TABLE (\\w+)\"\n",
    "    column_pattern = r\"(\\w+) ([a-zA-Z]+)(\\(\\d+\\))?\"\n",
    "\n",
    "    table_name_match = re.search(table_name_pattern, create_table_sql)\n",
    "    \n",
    "    if table_name_match==None:\n",
    "        print(\"fatal error : grammar incorrect.\")\n",
    "        print(\"error sql : \",create_table_sql)\n",
    "        \n",
    "    table_name = table_name_match.group(1)\n",
    "    \n",
    "    columns = []\n",
    "    column_matches = re.findall(column_pattern, create_table_sql)\n",
    "    for column_match in column_matches:\n",
    "        column_name = column_match[0]\n",
    "        column_type = column_match[1]\n",
    "        if column_name.upper()==\"CREATE\":\n",
    "            pass\n",
    "        else:\n",
    "            columns.append((column_name, column_type))\n",
    "\n",
    "    print(f\"Table name: {table_name}\")\n",
    "    print(\"Columns:\")\n",
    "    for column in columns:\n",
    "        print(f\"- Name: {column[0]}, Type: {column[1]}\")"
   ]
  },
  {
   "cell_type": "code",
   "execution_count": 46,
   "metadata": {
    "pycharm": {
     "name": "#%%\n"
    }
   },
   "outputs": [
    {
     "name": "stdout",
     "output_type": "stream",
     "text": [
      "Table name: example_table\n",
      "Columns:\n",
      "- Name: id, Type: int\n",
      "- Name: name, Type: varchar\n",
      "- Name: age, Type: int\n"
     ]
    }
   ],
   "source": [
    "parseSQL2json(\"CREATE TABLE example_table (id int, name varchar(255), age int)\")"
   ]
  },
  {
   "cell_type": "code",
   "execution_count": 47,
   "metadata": {
    "pycharm": {
     "name": "#%%\n"
    }
   },
   "outputs": [
    {
     "name": "stdout",
     "output_type": "stream",
     "text": [
      " Tablespace: \n",
      "--\n",
      "\n",
      "CREATE TABLE tb01 (\n",
      "    col1 double precision,\n",
      "    col2 integer,\n",
      "    col3 integer,\n",
      "    col4 double precision\n",
      ")\n",
      "WITH (orientation=row, compression=no)\n",
      "Table name: tb01\n",
      "Columns:\n",
      "- Name: col1, Type: double\n",
      "- Name: col2, Type: integer\n",
      "- Name: col3, Type: integer\n",
      "- Name: col4, Type: double\n",
      "None\n"
     ]
    }
   ],
   "source": [
    "print(real_content[0])\n",
    "print(parseSQL2json(real_content[0]))"
   ]
  },
  {
   "cell_type": "code",
   "execution_count": 52,
   "metadata": {
    "pycharm": {
     "name": "#%%\n"
    }
   },
   "outputs": [
    {
     "name": "stdout",
     "output_type": "stream",
     "text": [
      "Table name: tb01\n",
      "Columns:\n",
      "- Name: col1, Type: double\n",
      "- Name: col2, Type: integer\n",
      "- Name: col3, Type: integer\n",
      "- Name: col4, Type: double\n",
      "Table name: tb02\n",
      "Columns:\n",
      "- Name: col1, Type: double\n",
      "- Name: col2, Type: integer\n",
      "- Name: col3, Type: integer\n",
      "- Name: col4, Type: double\n",
      "Table name: tb03\n",
      "Columns:\n",
      "- Name: col1, Type: double\n",
      "- Name: col2, Type: integer\n",
      "- Name: col3, Type: integer\n",
      "- Name: col4, Type: double\n",
      "Table name: tb04\n",
      "Columns:\n",
      "- Name: col1, Type: double\n",
      "- Name: col2, Type: integer\n",
      "- Name: col3, Type: integer\n",
      "- Name: col4, Type: double\n",
      "Table name: tb05\n",
      "Columns:\n",
      "- Name: col1, Type: double\n",
      "- Name: col2, Type: integer\n",
      "- Name: col3, Type: integer\n",
      "- Name: col4, Type: double\n",
      "Table name: tb06\n",
      "Columns:\n",
      "- Name: col1, Type: double\n",
      "- Name: col2, Type: integer\n",
      "- Name: col3, Type: integer\n",
      "- Name: col4, Type: double\n",
      "Table name: tb07\n",
      "Columns:\n",
      "- Name: col1, Type: double\n",
      "- Name: col2, Type: integer\n",
      "- Name: col3, Type: integer\n",
      "- Name: col4, Type: double\n",
      "Table name: tb08\n",
      "Columns:\n",
      "- Name: col1, Type: double\n",
      "- Name: col2, Type: integer\n",
      "- Name: col3, Type: integer\n",
      "- Name: col4, Type: double\n",
      "Table name: tb09\n",
      "Columns:\n",
      "- Name: col1, Type: double\n",
      "- Name: col2, Type: integer\n",
      "- Name: col3, Type: integer\n",
      "- Name: col4, Type: double\n",
      "Table name: tb10\n",
      "Columns:\n",
      "- Name: col1, Type: double\n",
      "- Name: col2, Type: integer\n",
      "- Name: col3, Type: integer\n",
      "- Name: col4, Type: double\n",
      "Table name: tb11\n",
      "Columns:\n",
      "- Name: col1, Type: double\n",
      "- Name: col2, Type: integer\n",
      "- Name: col3, Type: integer\n",
      "- Name: col4, Type: double\n",
      "Table name: tb12\n",
      "Columns:\n",
      "- Name: col1, Type: double\n",
      "- Name: col2, Type: integer\n",
      "- Name: col3, Type: integer\n",
      "- Name: col4, Type: double\n",
      "Table name: tb13\n",
      "Columns:\n",
      "- Name: col1, Type: double\n",
      "- Name: col2, Type: integer\n",
      "- Name: col3, Type: integer\n",
      "- Name: col4, Type: double\n",
      "Table name: tb14\n",
      "Columns:\n",
      "- Name: col1, Type: double\n",
      "- Name: col2, Type: integer\n",
      "- Name: col3, Type: integer\n",
      "- Name: col4, Type: double\n",
      "Table name: tb15\n",
      "Columns:\n",
      "- Name: col1, Type: double\n",
      "- Name: col2, Type: integer\n",
      "- Name: col3, Type: integer\n",
      "- Name: col4, Type: double\n",
      "Table name: tb16\n",
      "Columns:\n",
      "- Name: col1, Type: double\n",
      "- Name: col2, Type: integer\n",
      "- Name: col3, Type: integer\n",
      "- Name: col4, Type: double\n",
      "Table name: tb17\n",
      "Columns:\n",
      "- Name: col1, Type: double\n",
      "- Name: col2, Type: integer\n",
      "- Name: col3, Type: integer\n",
      "- Name: col4, Type: double\n",
      "Table name: tb18\n",
      "Columns:\n",
      "- Name: col1, Type: double\n",
      "- Name: col2, Type: integer\n",
      "- Name: col3, Type: integer\n",
      "- Name: col4, Type: double\n",
      "Table name: tb19\n",
      "Columns:\n",
      "- Name: col1, Type: double\n",
      "- Name: col2, Type: integer\n",
      "- Name: col3, Type: integer\n",
      "- Name: col4, Type: double\n",
      "Table name: tb20\n",
      "Columns:\n",
      "- Name: col1, Type: double\n",
      "- Name: col2, Type: integer\n",
      "- Name: col3, Type: integer\n",
      "- Name: col4, Type: double\n",
      "Table name: tb21\n",
      "Columns:\n",
      "- Name: col1, Type: double\n",
      "- Name: col2, Type: integer\n",
      "- Name: col3, Type: integer\n",
      "- Name: col4, Type: double\n",
      "Table name: tb22\n",
      "Columns:\n",
      "- Name: col1, Type: double\n",
      "- Name: col2, Type: integer\n",
      "- Name: col3, Type: integer\n",
      "- Name: col4, Type: double\n",
      "Table name: tb23\n",
      "Columns:\n",
      "- Name: col1, Type: double\n",
      "- Name: col2, Type: integer\n",
      "- Name: col3, Type: integer\n",
      "- Name: col4, Type: double\n",
      "Table name: tb24\n",
      "Columns:\n",
      "- Name: col1, Type: double\n",
      "- Name: col2, Type: integer\n",
      "- Name: col3, Type: integer\n",
      "- Name: col4, Type: double\n",
      "Table name: tb25\n",
      "Columns:\n",
      "- Name: col1, Type: double\n",
      "- Name: col2, Type: integer\n",
      "- Name: col3, Type: integer\n",
      "- Name: col4, Type: double\n",
      "Table name: tb26\n",
      "Columns:\n",
      "- Name: col1, Type: double\n",
      "- Name: col2, Type: integer\n",
      "- Name: col3, Type: integer\n",
      "- Name: col4, Type: double\n",
      "Table name: tb27\n",
      "Columns:\n",
      "- Name: col1, Type: double\n",
      "- Name: col2, Type: integer\n",
      "- Name: col3, Type: integer\n",
      "- Name: col4, Type: double\n",
      "Table name: tb28\n",
      "Columns:\n",
      "- Name: col1, Type: double\n",
      "- Name: col2, Type: integer\n",
      "- Name: col3, Type: integer\n",
      "- Name: col4, Type: double\n",
      "Table name: tb29\n",
      "Columns:\n",
      "- Name: col1, Type: double\n",
      "- Name: col2, Type: integer\n",
      "- Name: col3, Type: integer\n",
      "- Name: col4, Type: double\n",
      "Table name: tb30\n",
      "Columns:\n",
      "- Name: col1, Type: double\n",
      "- Name: col2, Type: integer\n",
      "- Name: col3, Type: integer\n",
      "- Name: col4, Type: double\n",
      "Table name: tb31\n",
      "Columns:\n",
      "- Name: col1, Type: double\n",
      "- Name: col2, Type: integer\n",
      "- Name: col3, Type: integer\n",
      "- Name: col4, Type: double\n",
      "Table name: tb32\n",
      "Columns:\n",
      "- Name: col1, Type: double\n",
      "- Name: col2, Type: integer\n",
      "- Name: col3, Type: integer\n",
      "- Name: col4, Type: double\n",
      "Table name: tb33\n",
      "Columns:\n",
      "- Name: col1, Type: double\n",
      "- Name: col2, Type: integer\n",
      "- Name: col3, Type: integer\n",
      "- Name: col4, Type: double\n",
      "Table name: tb34\n",
      "Columns:\n",
      "- Name: col1, Type: double\n",
      "- Name: col2, Type: integer\n",
      "- Name: col3, Type: integer\n",
      "- Name: col4, Type: double\n",
      "Table name: tb35\n",
      "Columns:\n",
      "- Name: col1, Type: double\n",
      "- Name: col2, Type: integer\n",
      "- Name: col3, Type: integer\n",
      "- Name: col4, Type: double\n",
      "Table name: tb36\n",
      "Columns:\n",
      "- Name: col1, Type: double\n",
      "- Name: col2, Type: integer\n",
      "- Name: col3, Type: integer\n",
      "- Name: col4, Type: double\n",
      "Table name: tb37\n",
      "Columns:\n",
      "- Name: col1, Type: double\n",
      "- Name: col2, Type: integer\n",
      "- Name: col3, Type: integer\n",
      "- Name: col4, Type: double\n",
      "Table name: tb38\n",
      "Columns:\n",
      "- Name: col1, Type: double\n",
      "- Name: col2, Type: integer\n",
      "- Name: col3, Type: integer\n",
      "- Name: col4, Type: double\n",
      "Table name: tb39\n",
      "Columns:\n",
      "- Name: col1, Type: double\n",
      "- Name: col2, Type: integer\n",
      "- Name: col3, Type: integer\n",
      "- Name: col4, Type: double\n",
      "Table name: tb40\n",
      "Columns:\n",
      "- Name: col1, Type: double\n",
      "- Name: col2, Type: integer\n",
      "- Name: col3, Type: integer\n",
      "- Name: col4, Type: double\n",
      "Table name: tb41\n",
      "Columns:\n",
      "- Name: col1, Type: double\n",
      "- Name: col2, Type: integer\n",
      "- Name: col3, Type: integer\n",
      "- Name: col4, Type: double\n",
      "Table name: tb42\n",
      "Columns:\n",
      "- Name: col1, Type: double\n",
      "- Name: col2, Type: integer\n",
      "- Name: col3, Type: integer\n",
      "- Name: col4, Type: double\n",
      "Table name: tb43\n",
      "Columns:\n",
      "- Name: col1, Type: double\n",
      "- Name: col2, Type: integer\n",
      "- Name: col3, Type: integer\n",
      "- Name: col4, Type: double\n",
      "Table name: tb44\n",
      "Columns:\n",
      "- Name: col1, Type: double\n",
      "- Name: col2, Type: integer\n",
      "- Name: col3, Type: integer\n",
      "- Name: col4, Type: double\n",
      "Table name: tb45\n",
      "Columns:\n",
      "- Name: col1, Type: double\n",
      "- Name: col2, Type: integer\n",
      "- Name: col3, Type: integer\n",
      "- Name: col4, Type: double\n",
      "Table name: tb46\n",
      "Columns:\n",
      "- Name: col1, Type: double\n",
      "- Name: col2, Type: integer\n",
      "- Name: col3, Type: integer\n",
      "- Name: col4, Type: double\n",
      "Table name: tb47\n",
      "Columns:\n",
      "- Name: col1, Type: double\n",
      "- Name: col2, Type: integer\n",
      "- Name: col3, Type: integer\n",
      "- Name: col4, Type: double\n",
      "Table name: tb48\n",
      "Columns:\n",
      "- Name: col1, Type: double\n",
      "- Name: col2, Type: integer\n",
      "- Name: col3, Type: integer\n",
      "- Name: col4, Type: double\n",
      "Table name: tb49\n",
      "Columns:\n",
      "- Name: col1, Type: double\n",
      "- Name: col2, Type: integer\n",
      "- Name: col3, Type: integer\n",
      "- Name: col4, Type: double\n",
      "Table name: tb50\n",
      "Columns:\n",
      "- Name: col1, Type: double\n",
      "- Name: col2, Type: integer\n",
      "- Name: col3, Type: integer\n",
      "- Name: col4, Type: double\n"
     ]
    }
   ],
   "source": [
    "for it in real_content:\n",
    "    parseSQL2json(it)"
   ]
  },
  {
   "cell_type": "code",
   "execution_count": 55,
   "metadata": {
    "pycharm": {
     "name": "#%%\n"
    }
   },
   "outputs": [
    {
     "name": "stdout",
     "output_type": "stream",
     "text": [
      "1\n"
     ]
    }
   ],
   "source": [
    "import json\n",
    "json_data={\n",
    "    \"a\":1,\n",
    "    \"b\":{\n",
    "        \"x\":[1,2,3]\n",
    "    }\n",
    "}\n",
    "with open(\"data/res.json\", \"w\") as f:\n",
    "    json.dump(json_data, f, indent=4)\n",
    "print(json_data[\"a\"])"
   ]
  },
  {
   "cell_type": "code",
   "execution_count": 1,
   "metadata": {
    "pycharm": {
     "name": "#%%\n"
    }
   },
   "outputs": [],
   "source": [
    "def parseSQL2json2(create_table_sql):\n",
    "    one_table={\n",
    "        \"Table Name\": \"\",\n",
    "        \"Table Columns\": [],\n",
    "        \"Column Distribution\" : [],\n",
    "        \"Primary Key\": {\n",
    "            \"Name\": \"\",\n",
    "            \"Data Type\": \"\"\n",
    "        },\n",
    "        \"Foreign Key\": [\n",
    "            {\n",
    "                \"Foreign Key Name\": \"\",\n",
    "                \"Foreign Key Type\": \"\",\n",
    "                \"Referenced Table\": \"\",\n",
    "                \"Referenced Primary Key\": \"\",\n",
    "                \"Referenced Primary Key Type\": \"\"\n",
    "            }\n",
    "        ]\n",
    "    }\n",
    "    table_name_pattern = r\"CREATE TABLE (\\w+)\"\n",
    "    column_pattern = r\"(\\w+) ([a-zA-Z]+)(\\(\\d+\\))?\"\n",
    "    table_name_match = re.search(table_name_pattern, create_table_sql)\n",
    "    \n",
    "    if table_name_match==None:\n",
    "        print(\"fatal error : grammar incorrect.\")\n",
    "        print(\"error sql : \",create_table_sql)\n",
    "    \n",
    "    table_name = table_name_match.group(1)\n",
    "    \n",
    "    columns = []\n",
    "    column_matches = re.findall(column_pattern, create_table_sql)\n",
    "    \n",
    "    for column_match in column_matches:\n",
    "        column_name = column_match[0]\n",
    "        column_type = column_match[1]\n",
    "        if column_name.upper()==\"CREATE\":\n",
    "            pass\n",
    "        else:\n",
    "            # columns.append((column_name, column_type))\n",
    "            if column_type==\"varchar\":\n",
    "                one_column={\n",
    "                    \"Column Name\": column_name,\n",
    "                    \"Data Type\": column_type,\n",
    "                    \"Data Distribution\": [\"minv\",\"maxv\"]\n",
    "                }\n",
    "            else:  \n",
    "                one_column={\n",
    "                    \"Column Name\": column_name,\n",
    "                    \"Data Type\": column_type,\n",
    "                    \"Data Distribution\": [0,100]\n",
    "                }\n",
    "            columns.append(one_column)\n",
    "            \n",
    "    one_table[\"Table Name\"]=table_name\n",
    "    one_table[\"Table Columns\"]=columns\n",
    "    one_table[\"Column Distribution\"]=[1.0/len(columns) for i in range(len(columns))]\n",
    "\n",
    "    return one_table\n",
    "    "
   ]
  },
  {
   "cell_type": "code",
   "execution_count": 2,
   "metadata": {
    "pycharm": {
     "name": "#%%\n"
    }
   },
   "outputs": [],
   "source": [
    "json_data={\n",
    "    \"Table Schema\": \"noobschema\",\n",
    "    \"Tables\": [],\n",
    "    \"Constraints\": {\n",
    "      \"size of workload\" : 0,\n",
    "      \"read write ratio\": 1,\n",
    "      \"average table num\": [],\n",
    "      \"table-query access distribution\": [],\n",
    "      \"query comparison operator ratio\" : [],\n",
    "      \"table domain distribution\" : [],\n",
    "      \"query logic predicate num\" : [],\n",
    "      \"average aggregation operator num\" : [],\n",
    "      \"average query colomn num\":[],\n",
    "      \"group by ratio if read SQL\":[],\n",
    "      \"order by desc or asc if grouped\":[]\n",
    "    },\n",
    "    \"Generation File\":\"\"\n",
    "}"
   ]
  },
  {
   "cell_type": "code",
   "execution_count": 3,
   "metadata": {
    "pycharm": {
     "name": "#%%\n"
    }
   },
   "outputs": [
    {
     "ename": "NameError",
     "evalue": "name 'real_content' is not defined",
     "output_type": "error",
     "traceback": [
      "\u001B[0;31m---------------------------------------------------------------------------\u001B[0m",
      "\u001B[0;31mNameError\u001B[0m                                 Traceback (most recent call last)",
      "\u001B[1;32m/Users/zongzelu/Desktop/CodeFile/PythonFile/JupyterFile/SuperWG/DWG/jsonHelper/jsonHelper.ipynb 单元格 16\u001B[0m line \u001B[0;36m2\n\u001B[1;32m      <a href='vscode-notebook-cell:/Users/zongzelu/Desktop/CodeFile/PythonFile/JupyterFile/SuperWG/DWG/jsonHelper/jsonHelper.ipynb#X21sZmlsZQ%3D%3D?line=0'>1</a>\u001B[0m tables\u001B[39m=\u001B[39m[]\n\u001B[0;32m----> <a href='vscode-notebook-cell:/Users/zongzelu/Desktop/CodeFile/PythonFile/JupyterFile/SuperWG/DWG/jsonHelper/jsonHelper.ipynb#X21sZmlsZQ%3D%3D?line=1'>2</a>\u001B[0m \u001B[39mfor\u001B[39;00m it \u001B[39min\u001B[39;00m real_content:\n\u001B[1;32m      <a href='vscode-notebook-cell:/Users/zongzelu/Desktop/CodeFile/PythonFile/JupyterFile/SuperWG/DWG/jsonHelper/jsonHelper.ipynb#X21sZmlsZQ%3D%3D?line=2'>3</a>\u001B[0m     one_table\u001B[39m=\u001B[39mparseSQL2json2(it)\n\u001B[1;32m      <a href='vscode-notebook-cell:/Users/zongzelu/Desktop/CodeFile/PythonFile/JupyterFile/SuperWG/DWG/jsonHelper/jsonHelper.ipynb#X21sZmlsZQ%3D%3D?line=3'>4</a>\u001B[0m     tables\u001B[39m.\u001B[39mappend(one_table)\n",
      "\u001B[0;31mNameError\u001B[0m: name 'real_content' is not defined"
     ]
    }
   ],
   "source": [
    "tables=[]\n",
    "for it in real_content:\n",
    "    one_table=parseSQL2json2(it)\n",
    "    tables.append(one_table)\n",
    "json_data[\"Tables\"]=tables\n",
    "with open(\"data/res.json\", \"w\") as f:\n",
    "    json.dump(json_data, f, indent=4)"
   ]
  },
  {
   "cell_type": "code",
   "execution_count": null,
   "metadata": {
    "pycharm": {
     "name": "#%%\n"
    }
   },
   "outputs": [],
   "source": [
    "ssh_client.close()"
   ]
  },
  {
   "cell_type": "code",
   "execution_count": 1,
   "metadata": {
    "pycharm": {
     "name": "#%%\n"
    }
   },
   "outputs": [
    {
     "name": "stdout",
     "output_type": "stream",
     "text": [
      "Match: 23-08-2023\n",
      "Group 1: 23-08-2023\n",
      "Group 2: 23\n",
      "Group 3: 08\n",
      "Group 4: 2023\n"
     ]
    }
   ],
   "source": [
    "import re\n",
    "\n",
    "pattern = r'((\\d{2})-(\\d{2})-(\\d{4}))'\n",
    "text = 'Date: 23-08-2023'\n",
    "\n",
    "match = re.search(pattern, text)\n",
    "if match:\n",
    "    # 返回整个匹配的字符串\n",
    "    print('Match:', match.group())  # 输出: Match: 23-08-2023\n",
    "\n",
    "    # 嵌套调用 group() 函数获取每个匹配组的内容\n",
    "    print('Group 1:', match.group(1))  # 输出: Group 1: 23-08-2023\n",
    "    print('Group 2:', match.group(2))  # 输出: Group 2: 23\n",
    "    print('Group 3:', match.group(3))  # 输出: Group 3: 08\n",
    "    print('Group 4:', match.group(4))  # 输出: Group 4: 2023\n",
    "else:\n",
    "    print('No match')"
   ]
  },
  {
   "cell_type": "code",
   "execution_count": 4,
   "metadata": {
    "pycharm": {
     "name": "#%%\n"
    }
   },
   "outputs": [],
   "source": [
    "import re\n",
    "import json\n",
    "import argparse\n",
    "\n",
    "def parseSQL2json2(create_table_sql):\n",
    "    one_table={\n",
    "        \"Table Name\": \"\",\n",
    "        \"Table Columns\": [],\n",
    "        \"Column Distribution\" : [],\n",
    "        \"Primary Key\": {\n",
    "            \"Name\": \"\",\n",
    "            \"Data Type\": \"\"\n",
    "        },\n",
    "        \"Foreign Key\": [\n",
    "            {\n",
    "                \"Foreign Key Name\": \"\",\n",
    "                \"Foreign Key Type\": \"\",\n",
    "                \"Referenced Table\": \"\",\n",
    "                \"Referenced Primary Key\": \"\",\n",
    "                \"Referenced Primary Key Type\": \"\"\n",
    "            }\n",
    "        ]\n",
    "    }\n",
    "    table_name_pattern = r\"CREATE TABLE (\\w+)\"\n",
    "    column_pattern = r\"(\\w+)\\s+([a-zA-Z]+)(\\(\\d+\\))?\"\n",
    "    table_name_match = re.search(table_name_pattern, create_table_sql)\n",
    "    \n",
    "    if table_name_match==None:\n",
    "        print(\"fatal error : grammar incorrect.\")\n",
    "        print(\"error sql : \",create_table_sql)\n",
    "    \n",
    "    table_name = table_name_match.group(1)\n",
    "    \n",
    "    columns = []\n",
    "    column_matches = re.findall(column_pattern, create_table_sql)\n",
    "    \n",
    "    for column_match in column_matches:\n",
    "        column_name = column_match[0]\n",
    "        column_type = column_match[1]\n",
    "        if column_name.upper()==\"CREATE\":\n",
    "            pass\n",
    "        else:\n",
    "            # columns.append((column_name, column_type))\n",
    "            if column_type==\"varchar\":\n",
    "                one_column={\n",
    "                    \"Column Name\": column_name,\n",
    "                    \"Data Type\": column_type,\n",
    "                    \"Data Distribution\": [\"minv\",\"maxv\"]\n",
    "                }\n",
    "            else:  \n",
    "                one_column={\n",
    "                    \"Column Name\": column_name,\n",
    "                    \"Data Type\": column_type,\n",
    "                    \"Data Distribution\": [0,100]\n",
    "                }\n",
    "            columns.append(one_column)\n",
    "            \n",
    "    one_table[\"Table Name\"]=table_name\n",
    "    one_table[\"Table Columns\"]=columns\n",
    "    one_table[\"Column Distribution\"]=[1.0/len(columns) for i in range(len(columns))]\n",
    "\n",
    "    return one_table"
   ]
  },
  {
   "cell_type": "code",
   "execution_count": 7,
   "metadata": {
    "pycharm": {
     "name": "#%%\n"
    }
   },
   "outputs": [
    {
     "name": "stdout",
     "output_type": "stream",
     "text": [
      "<class 'str'> 97146\n",
      "2337\n",
      "sbtest1\n",
      "sbtest10\n",
      "sbtest11\n",
      "sbtest12\n",
      "sbtest13\n",
      "sbtest14\n",
      "sbtest15\n",
      "sbtest16\n",
      "sbtest17\n",
      "sbtest18\n",
      "sbtest19\n",
      "sbtest2\n",
      "sbtest20\n",
      "sbtest21\n",
      "sbtest22\n",
      "sbtest23\n",
      "sbtest24\n",
      "sbtest25\n",
      "sbtest26\n",
      "sbtest27\n",
      "sbtest28\n",
      "sbtest29\n",
      "sbtest3\n",
      "sbtest30\n",
      "sbtest31\n",
      "sbtest32\n",
      "sbtest33\n",
      "sbtest34\n",
      "sbtest35\n",
      "sbtest36\n",
      "sbtest37\n",
      "sbtest38\n",
      "sbtest39\n",
      "sbtest4\n",
      "sbtest40\n",
      "sbtest41\n",
      "sbtest42\n",
      "sbtest43\n",
      "sbtest44\n",
      "sbtest45\n",
      "sbtest46\n",
      "sbtest47\n",
      "sbtest48\n",
      "sbtest49\n",
      "sbtest5\n",
      "sbtest50\n",
      "sbtest51\n",
      "sbtest52\n",
      "sbtest53\n",
      "sbtest54\n",
      "sbtest55\n",
      "sbtest56\n",
      "sbtest57\n",
      "sbtest58\n",
      "sbtest59\n",
      "sbtest6\n",
      "sbtest60\n",
      "sbtest61\n",
      "sbtest62\n",
      "sbtest63\n",
      "sbtest64\n",
      "sbtest65\n",
      "sbtest66\n",
      "sbtest67\n",
      "sbtest68\n",
      "sbtest69\n",
      "sbtest7\n",
      "sbtest70\n",
      "sbtest71\n",
      "sbtest72\n",
      "sbtest73\n",
      "sbtest74\n",
      "sbtest75\n",
      "sbtest76\n",
      "sbtest77\n",
      "sbtest78\n",
      "sbtest79\n",
      "sbtest8\n",
      "sbtest80\n",
      "sbtest9\n"
     ]
    }
   ],
   "source": [
    "with open(\"data/test.sql\", 'r') as f:\n",
    "    content=f.read()\n",
    "print(type(content),len(content))\n",
    "\n",
    "content_split=re.split('[\\n]*;+[\\n]*',content)\n",
    "print(len(content_split))\n",
    "# content_split = re.sub('\\n', '', content_split)\n",
    "real_content=[]\n",
    "\n",
    "for it in content_split:\n",
    "    # if \"CREATE\" in it and \"GRANT\" not in it and \"INDEX\" not in it:\n",
    "        # print(it)\n",
    "        # real_content.append(it)\n",
    "    filter_pattern = r\"(CREATE TABLE .*)WITH\"\n",
    "    if re.search(pattern=filter_pattern,string=it,flags=re.DOTALL)!=None:\n",
    "        # print(it)\n",
    "        real_content.append(it)\n",
    "\n",
    "tables=[]\n",
    "for it in real_content:\n",
    "    one_table=parseSQL2json2(it)\n",
    "    tables.append(one_table)\n",
    "    print(one_table[\"Table Name\"])\n",
    "    \n"
   ]
  },
  {
   "cell_type": "code",
   "execution_count": 6,
   "metadata": {
    "pycharm": {
     "name": "#%%\n"
    }
   },
   "outputs": [
    {
     "ename": "ParseError",
     "evalue": "syntax error at or near \"row\", at index 171",
     "output_type": "error",
     "traceback": [
      "\u001B[0;31m---------------------------------------------------------------------------\u001B[0m",
      "\u001B[0;31mParseError\u001B[0m                                Traceback (most recent call last)",
      "\u001B[1;32m/Users/zongzelu/Desktop/CodeFile/PythonFile/JupyterFile/SuperWG/DWG/jsonHelper/jsonHelper.ipynb 单元格 21\u001B[0m line \u001B[0;36m2\n\u001B[1;32m     <a href='vscode-notebook-cell:/Users/zongzelu/Desktop/CodeFile/PythonFile/JupyterFile/SuperWG/DWG/jsonHelper/jsonHelper.ipynb#X26sZmlsZQ%3D%3D?line=16'>17</a>\u001B[0m \u001B[39m# 测试示例\u001B[39;00m\n\u001B[1;32m     <a href='vscode-notebook-cell:/Users/zongzelu/Desktop/CodeFile/PythonFile/JupyterFile/SuperWG/DWG/jsonHelper/jsonHelper.ipynb#X26sZmlsZQ%3D%3D?line=17'>18</a>\u001B[0m sql_statement \u001B[39m=\u001B[39m \u001B[39m'''\u001B[39m\n\u001B[1;32m     <a href='vscode-notebook-cell:/Users/zongzelu/Desktop/CodeFile/PythonFile/JupyterFile/SuperWG/DWG/jsonHelper/jsonHelper.ipynb#X26sZmlsZQ%3D%3D?line=18'>19</a>\u001B[0m \u001B[39m    CREATE TABLE \u001B[39m\u001B[39m\"\u001B[39m\u001B[39mcreatesjavaslobstable\u001B[39m\u001B[39m\"\u001B[39m\u001B[39m (\u001B[39m\n\u001B[1;32m     <a href='vscode-notebook-cell:/Users/zongzelu/Desktop/CodeFile/PythonFile/JupyterFile/SuperWG/DWG/jsonHelper/jsonHelper.ipynb#X26sZmlsZQ%3D%3D?line=19'>20</a>\u001B[0m \u001B[39m        name character varying (700),\u001B[39m\n\u001B[0;32m   (...)\u001B[0m\n\u001B[1;32m     <a href='vscode-notebook-cell:/Users/zongzelu/Desktop/CodeFile/PythonFile/JupyterFile/SuperWG/DWG/jsonHelper/jsonHelper.ipynb#X26sZmlsZQ%3D%3D?line=23'>24</a>\u001B[0m \u001B[39m    DISTRIBUTE BY HASH (name);\u001B[39m\n\u001B[1;32m     <a href='vscode-notebook-cell:/Users/zongzelu/Desktop/CodeFile/PythonFile/JupyterFile/SuperWG/DWG/jsonHelper/jsonHelper.ipynb#X26sZmlsZQ%3D%3D?line=24'>25</a>\u001B[0m \u001B[39m'''\u001B[39m\n\u001B[0;32m---> <a href='vscode-notebook-cell:/Users/zongzelu/Desktop/CodeFile/PythonFile/JupyterFile/SuperWG/DWG/jsonHelper/jsonHelper.ipynb#X26sZmlsZQ%3D%3D?line=26'>27</a>\u001B[0m parse_create_table(sql_statement)\n",
      "\u001B[1;32m/Users/zongzelu/Desktop/CodeFile/PythonFile/JupyterFile/SuperWG/DWG/jsonHelper/jsonHelper.ipynb 单元格 21\u001B[0m line \u001B[0;36m4\n\u001B[1;32m      <a href='vscode-notebook-cell:/Users/zongzelu/Desktop/CodeFile/PythonFile/JupyterFile/SuperWG/DWG/jsonHelper/jsonHelper.ipynb#X26sZmlsZQ%3D%3D?line=2'>3</a>\u001B[0m \u001B[39mdef\u001B[39;00m \u001B[39mparse_create_table\u001B[39m(sql):\n\u001B[0;32m----> <a href='vscode-notebook-cell:/Users/zongzelu/Desktop/CodeFile/PythonFile/JupyterFile/SuperWG/DWG/jsonHelper/jsonHelper.ipynb#X26sZmlsZQ%3D%3D?line=3'>4</a>\u001B[0m     result \u001B[39m=\u001B[39m parse_sql(sql)\n\u001B[1;32m      <a href='vscode-notebook-cell:/Users/zongzelu/Desktop/CodeFile/PythonFile/JupyterFile/SuperWG/DWG/jsonHelper/jsonHelper.ipynb#X26sZmlsZQ%3D%3D?line=4'>5</a>\u001B[0m     \u001B[39mfor\u001B[39;00m stmt \u001B[39min\u001B[39;00m result\u001B[39m.\u001B[39mtree:\n\u001B[1;32m      <a href='vscode-notebook-cell:/Users/zongzelu/Desktop/CodeFile/PythonFile/JupyterFile/SuperWG/DWG/jsonHelper/jsonHelper.ipynb#X26sZmlsZQ%3D%3D?line=5'>6</a>\u001B[0m         \u001B[39mif\u001B[39;00m stmt[\u001B[39m'\u001B[39m\u001B[39mstmt\u001B[39m\u001B[39m'\u001B[39m] \u001B[39m==\u001B[39m \u001B[39m'\u001B[39m\u001B[39mCreateStmt\u001B[39m\u001B[39m'\u001B[39m:\n",
      "File \u001B[0;32mpglast/parser.pyx:276\u001B[0m, in \u001B[0;36mpglast.parser.parse_sql\u001B[0;34m()\u001B[0m\n",
      "\u001B[0;31mParseError\u001B[0m: syntax error at or near \"row\", at index 171"
     ]
    }
   ],
   "source": [
    "from pglast import parse_sql\n",
    "\n",
    "def parse_create_table(sql):\n",
    "    result = parse_sql(sql)\n",
    "    for stmt in result.tree:\n",
    "        if stmt['stmt'] == 'CreateStmt':\n",
    "            table_name = stmt['relation']['relname']\n",
    "            print('Table Name:', table_name)\n",
    "\n",
    "            columns = stmt['tableElts']\n",
    "            for column in columns:\n",
    "                column_name = column['colname']\n",
    "                data_type = column['typeName']['names'][0]\n",
    "                print('Column Name:', column_name)\n",
    "                print('Data Type:', data_type)\n",
    "\n",
    "# 测试示例\n",
    "sql_statement = '''\n",
    "    CREATE TABLE \"createsjavaslobstable\" (\n",
    "        name character varying (700),\n",
    "        lob blob,\n",
    "        loadtime timestamp(0) without time zone\n",
    "    )WITH (orientation=row, compression=no,storage_type=astore)\n",
    "    DISTRIBUTE BY HASH (name);\n",
    "'''\n",
    "\n",
    "parse_create_table(sql_statement)"
   ]
  },
  {
   "cell_type": "code",
   "execution_count": 8,
   "metadata": {
    "pycharm": {
     "name": "#%%\n"
    }
   },
   "outputs": [
    {
     "name": "stdout",
     "output_type": "stream",
     "text": [
      "Token.Text.Whitespace.Newline \n",
      "\n",
      "Token.Keyword.DDL CREATE\n",
      "Token.Text.Whitespace  \n",
      "Token.Keyword TABLE\n",
      "Token.Text.Whitespace  \n",
      "None sbtest1\n",
      "Token.Text.Whitespace  \n",
      "None (\n",
      "    id integer NOT NULL,\n",
      "    k integer DEFAULT 0 NOT NULL,\n",
      "    c character(120) DEFAULT NULL::bpchar NOT NULL,\n",
      "    pad character(60) DEFAULT NULL::bpchar NOT NULL\n",
      ")\n",
      "Token.Text.Whitespace.Newline \n",
      "\n",
      "Token.Keyword.CTE WITH\n",
      "Token.Text.Whitespace  \n",
      "None (orientation=row, compression=no)\n",
      "Token.Punctuation ;\n"
     ]
    }
   ],
   "source": [
    "sql_statement = '''\n",
    "CREATE TABLE sbtest1 (\n",
    "    id integer NOT NULL,\n",
    "    k integer DEFAULT 0 NOT NULL,\n",
    "    c character(120) DEFAULT NULL::bpchar NOT NULL,\n",
    "    pad character(60) DEFAULT NULL::bpchar NOT NULL\n",
    ")\n",
    "WITH (orientation=row, compression=no);\n",
    "\n",
    "'''\n",
    "import sqlparse\n",
    "parsed=sqlparse.parse(sql_statement)\n",
    "for statement in parsed:\n",
    "    for token in statement.tokens:\n",
    "        print(token.ttype,token)"
   ]
  },
  {
   "cell_type": "code",
   "execution_count": 134,
   "metadata": {
    "pycharm": {
     "name": "#%%\n"
    }
   },
   "outputs": [
    {
     "ename": "AttributeError",
     "evalue": "'Token' object has no attribute 'get_type'",
     "output_type": "error",
     "traceback": [
      "\u001B[0;31m---------------------------------------------------------------------------\u001B[0m",
      "\u001B[0;31mAttributeError\u001B[0m                            Traceback (most recent call last)",
      "Cell \u001B[0;32mIn[134], line 44\u001B[0m\n\u001B[1;32m     41\u001B[0m \u001B[39m# 示例 SQL 语句\u001B[39;00m\n\u001B[1;32m     42\u001B[0m sql \u001B[39m=\u001B[39m \u001B[39m\"\u001B[39m\u001B[39mCREATE TABLE my_table (id INT, name VARCHAR(50), age INT);\u001B[39m\u001B[39m\"\u001B[39m\n\u001B[0;32m---> 44\u001B[0m table_name, columns, datatypes \u001B[39m=\u001B[39m extract_columns_and_datatypes(sql)\n\u001B[1;32m     46\u001B[0m \u001B[39mprint\u001B[39m(\u001B[39m\"\u001B[39m\u001B[39mTable Name:\u001B[39m\u001B[39m\"\u001B[39m, table_name)\n\u001B[1;32m     47\u001B[0m \u001B[39mprint\u001B[39m(\u001B[39m\"\u001B[39m\u001B[39mColumns:\u001B[39m\u001B[39m\"\u001B[39m, columns)\n",
      "Cell \u001B[0;32mIn[134], line 24\u001B[0m, in \u001B[0;36mextract_columns_and_datatypes\u001B[0;34m(sql)\u001B[0m\n\u001B[1;32m     21\u001B[0m \u001B[39melif\u001B[39;00m statement\u001B[39m.\u001B[39mget_type() \u001B[39m==\u001B[39m \u001B[39m'\u001B[39m\u001B[39mCREATE\u001B[39m\u001B[39m'\u001B[39m:\n\u001B[1;32m     22\u001B[0m     \u001B[39m# 处理 CREATE TABLE 语句\u001B[39;00m\n\u001B[1;32m     23\u001B[0m     \u001B[39mfor\u001B[39;00m token \u001B[39min\u001B[39;00m statement\u001B[39m.\u001B[39mtokens:\n\u001B[0;32m---> 24\u001B[0m         \u001B[39mif\u001B[39;00m token\u001B[39m.\u001B[39;49mget_type() \u001B[39m==\u001B[39m \u001B[39m'\u001B[39m\u001B[39mKeyword\u001B[39m\u001B[39m'\u001B[39m \u001B[39mand\u001B[39;00m token\u001B[39m.\u001B[39mvalue\u001B[39m.\u001B[39mupper() \u001B[39m==\u001B[39m \u001B[39m'\u001B[39m\u001B[39mTABLE\u001B[39m\u001B[39m'\u001B[39m:\n\u001B[1;32m     25\u001B[0m             \u001B[39m# 获取表名\u001B[39;00m\n\u001B[1;32m     26\u001B[0m             table_name \u001B[39m=\u001B[39m statement\u001B[39m.\u001B[39mtokens[statement\u001B[39m.\u001B[39mtokens\u001B[39m.\u001B[39mindex(token) \u001B[39m+\u001B[39m \u001B[39m2\u001B[39m]\u001B[39m.\u001B[39mget_real_name()\n\u001B[1;32m     27\u001B[0m         \u001B[39melif\u001B[39;00m token\u001B[39m.\u001B[39mget_type() \u001B[39m==\u001B[39m \u001B[39m'\u001B[39m\u001B[39mKeyword\u001B[39m\u001B[39m'\u001B[39m \u001B[39mand\u001B[39;00m token\u001B[39m.\u001B[39mvalue\u001B[39m.\u001B[39mupper() \u001B[39m==\u001B[39m \u001B[39m'\u001B[39m\u001B[39mCOLUMN\u001B[39m\u001B[39m'\u001B[39m:\n\u001B[1;32m     28\u001B[0m             \u001B[39m# 获取列和数据类型\u001B[39;00m\n",
      "\u001B[0;31mAttributeError\u001B[0m: 'Token' object has no attribute 'get_type'"
     ]
    }
   ],
   "source": [
    "import sqlparse\n",
    "\n",
    "def extract_columns_and_datatypes(sql):\n",
    "    parsed = sqlparse.parse(sql)\n",
    "    \n",
    "    columns = []\n",
    "    datatypes = []\n",
    "    \n",
    "    for statement in parsed:\n",
    "        if statement.get_type() == 'SELECT':\n",
    "            # 处理 SELECT 语句\n",
    "            for token in statement.tokens:\n",
    "                if token.is_group() and token.get_type() == 'Parenthesis':\n",
    "                    # 获取列和数据类型\n",
    "                    for sub_token in token.tokens:\n",
    "                        if sub_token.get_type() == 'Identifier':\n",
    "                            columns.append(sub_token.get_real_name())\n",
    "                        elif sub_token.get_type() == 'DataType':\n",
    "                            datatypes.append(sub_token.get_real_name())\n",
    "                            \n",
    "        elif statement.get_type() == 'CREATE':\n",
    "            # 处理 CREATE TABLE 语句\n",
    "            for token in statement.tokens:\n",
    "                if token.get_type() == 'Keyword' and token.value.upper() == 'TABLE':\n",
    "                    # 获取表名\n",
    "                    table_name = statement.tokens[statement.tokens.index(token) + 2].get_real_name()\n",
    "                elif token.get_type() == 'Keyword' and token.value.upper() == 'COLUMN':\n",
    "                    # 获取列和数据类型\n",
    "                    column_token = statement.tokens[statement.tokens.index(token) + 1]\n",
    "                    if column_token.get_type() == 'Identifier':\n",
    "                        columns.append(column_token.get_real_name())\n",
    "                    elif column_token.get_type() == 'Parenthesis':\n",
    "                        for sub_token in column_token.tokens:\n",
    "                            if sub_token.get_type() == 'Identifier':\n",
    "                                columns.append(sub_token.get_real_name())\n",
    "                            elif sub_token.get_type() == 'DataType':\n",
    "                                datatypes.append(sub_token.get_real_name())\n",
    "                            \n",
    "    return table_name, columns, datatypes\n",
    "\n",
    "# 示例 SQL 语句\n",
    "sql = \"CREATE TABLE my_table (id INT, name VARCHAR(50), age INT);\"\n",
    "\n",
    "table_name, columns, datatypes = extract_columns_and_datatypes(sql)\n",
    "\n",
    "print(\"Table Name:\", table_name)\n",
    "print(\"Columns:\", columns)\n",
    "print(\"Datatypes:\", datatypes)"
   ]
  },
  {
   "cell_type": "code",
   "execution_count": 22,
   "metadata": {
    "pycharm": {
     "name": "#%%\n"
    }
   },
   "outputs": [
    {
     "name": "stdout",
     "output_type": "stream",
     "text": [
      "CREATE TABLE sbtest1 (\n",
      "    id integer NOT NULL,\n",
      "    k integer DEFAULT 0 NOT NULL,\n",
      "    c character(120) DEFAULT NULL::bpchar NOT NULL,\n",
      "    pad character(60) DEFAULT NULL::bpchar NOT NULL\n",
      ")\n",
      " \n",
      "\n",
      "sbtest1\n",
      "1 : \n",
      "\tcolname :  id\n",
      "\tcoltype :  int4\n",
      "\ttypemod :  -1\n",
      "2 : \n",
      "\tcolname :  k\n",
      "\tcoltype :  int4\n",
      "\ttypemod :  -1\n",
      "3 : \n",
      "\tcolname :  c\n",
      "\tcoltype :  bpchar\n",
      "\ttypemod :  {'Integer': {'ival': 120}}\n",
      "4 : \n",
      "\tcolname :  pad\n",
      "\tcoltype :  bpchar\n",
      "\ttypemod :  {'Integer': {'ival': 60}}\n"
     ]
    }
   ],
   "source": [
    "import psqlparse\n",
    "\n",
    "# 测试示例\n",
    "sql_statement = '''\n",
    "Tablespace:\n",
    "--\n",
    "CREATE TABLE sbtest1 (\n",
    "    id integer NOT NULL,\n",
    "    k integer DEFAULT 0 NOT NULL,\n",
    "    c character(120) DEFAULT NULL::bpchar NOT NULL,\n",
    "    pad character(60) DEFAULT NULL::bpchar NOT NULL\n",
    ")\n",
    "WITH (orientation=row, compression=no);\n",
    "\n",
    "'''\n",
    "import re\n",
    "pa=\"(CREATE TABLE .*)WITH\"\n",
    "ans=re.search(pattern=pa,string=sql_statement,flags=re.DOTALL).group(1)\n",
    "print(ans,\"\\n\")\n",
    "# sql_statement=\"SELECT * from mytabl\"\n",
    "statements=psqlparse.parse(ans)\n",
    "index_=1\n",
    "print(statements[0]['CreateStmt']['relation']['RangeVar']['relname'])\n",
    "for i in statements[0]['CreateStmt']['tableElts']:\n",
    "    # 各个列\n",
    "    for j,k in i.items():\n",
    "        # print(j,\":\")\n",
    "        print(f\"{index_} : \")\n",
    "        for m,n in k.items():\n",
    "            # print(n)\n",
    "            if m==\"typeName\":\n",
    "                index_+=1\n",
    "                \n",
    "                print(\"\\tcoltype : \",n['TypeName']['names'][len(n['TypeName']['names'])-1]['String']['str'])\n",
    "                # if n['TypeName']['names'][len(n['TypeName']['names'])-1]['String']['str']==\"varchar\":\n",
    "                #     print(\"\\ttypemod : \",n['TypeName']['typmods'][0]['A_Const']['val']['Integer']['ival'])\n",
    "                # if n['TypeName']['names'][len(n['TypeName']['names'])-1]['String']['str']=='blob':\n",
    "                #     print(\"\\t\\t\",n['TypeName']['typemod'])\n",
    "                if n['TypeName']['names'][len(n['TypeName']['names'])-1]['String']['str']=='timestamp':\n",
    "                    print(\"\\ttypemod : \",n['TypeName']['typmods'][0]['A_Const']['val']['Integer']['ival'])\n",
    "                elif n['TypeName']['names'][len(n['TypeName']['names'])-1]['String']['str']=='numeric':\n",
    "                    print(\"\\ttypemod : \",n['TypeName']['typemod'])\n",
    "                    # print(\"\\ttypemod : \",n['TypeName']['typmods'][0]['A_Const']['val']['Integer']['ival'])\n",
    "                    # print(\"\\ttypemod : \",n['TypeName']['typmods'][1]['A_Const']['val']['Integer']['ival'])\n",
    "                    # print(\"\\ttypemod : \",n['TypeName']['typmods'][1]['A_Const'])\n",
    "                elif n['TypeName']['names'][len(n['TypeName']['names'])-1]['String']['str']=='bpchar':\n",
    "                    print(\"\\ttypemod : \",n['TypeName']['typmods'][0]['A_Const']['val'])\n",
    "                else:\n",
    "                    print(\"\\ttypemod : \",n['TypeName']['typemod'])\n",
    "            elif m==\"colname\":\n",
    "                print(\"\\tcolname : \",n)\n",
    "            else:\n",
    "                pass"
   ]
  },
  {
   "cell_type": "code",
   "execution_count": 71,
   "metadata": {
    "pycharm": {
     "name": "#%%\n"
    }
   },
   "outputs": [
    {
     "ename": "AttributeError",
     "evalue": "'NoneType' object has no attribute 'group'",
     "output_type": "error",
     "traceback": [
      "\u001B[0;31m---------------------------------------------------------------------------\u001B[0m",
      "\u001B[0;31mAttributeError\u001B[0m                            Traceback (most recent call last)",
      "Cell \u001B[0;32mIn[71], line 11\u001B[0m\n\u001B[1;32m      9\u001B[0m string \u001B[39m=\u001B[39m \u001B[39m\"\u001B[39m\u001B[39m这是一个(括号)示例(字符串)，(提取)其中的部分。\u001B[39m\u001B[39m\"\u001B[39m\n\u001B[1;32m     10\u001B[0m result \u001B[39m=\u001B[39m extract_text_in_parentheses(string)\n\u001B[0;32m---> 11\u001B[0m \u001B[39mprint\u001B[39m(result\u001B[39m.\u001B[39;49mgroup())\n",
      "\u001B[0;31mAttributeError\u001B[0m: 'NoneType' object has no attribute 'group'"
     ]
    }
   ],
   "source": [
    "import re\n",
    "def extract_text_in_parentheses(text):\n",
    "    pattern = r'\\((.*?)\\)'  # 匹配括号内的内容，非贪婪模式\n",
    "    matches = re.findall(pattern, text)\n",
    "    return matches\n",
    "\n",
    "# 测试示例\n",
    "string = \"这是一个(括号)示例(字符串)，(提取)其中的部分。\"\n",
    "result = extract_text_in_parentheses(string)\n",
    "print(result)  # 输出: ['括号', '提取']"
   ]
  },
  {
   "cell_type": "code",
   "execution_count": 1,
   "metadata": {
    "pycharm": {
     "name": "#%%\n"
    }
   },
   "outputs": [
    {
     "name": "stdout",
     "output_type": "stream",
     "text": [
      "11:25:29.412700\n",
      "<class 'datetime.time'>\n"
     ]
    }
   ],
   "source": [
    "import random\n",
    "from datetime import datetime, timedelta\n",
    "\n",
    "def generate_random_time():\n",
    "    # 生成一个随机的日期\n",
    "    start_date = datetime(2000, 1, 1)\n",
    "    end_date = datetime.now()\n",
    "    random_date = start_date + random.random() * (end_date - start_date)\n",
    "    \n",
    "    # 生成一个随机的时间\n",
    "    random_time = random_date.time()\n",
    "    \n",
    "    return random_time\n",
    "\n",
    "# 生成随机时间\n",
    "random_time = generate_random_time()\n",
    "\n",
    "# 打印结果\n",
    "print(random_time)\n",
    "print(type(random_time))"
   ]
  },
  {
   "cell_type": "code",
   "execution_count": 2,
   "metadata": {
    "pycharm": {
     "name": "#%%\n"
    }
   },
   "outputs": [
    {
     "name": "stdout",
     "output_type": "stream",
     "text": [
      "timestamp(0): 2012-12-16 05:38:06\n",
      "timestamp(1): 2000-12-17 16:52:55.000001\n",
      "timestamp(2): 2021-12-12 09:42:19.000036\n",
      "timestamp(3): 2023-02-23 08:46:52.000971\n",
      "timestamp(4): 1984-12-11 07:28:48.007749\n",
      "timestamp(5): 2019-11-25 04:59:06.027845\n",
      "timestamp(6): 1978-02-10 12:49:19.834272\n"
     ]
    }
   ],
   "source": [
    "import random\n",
    "import datetime\n",
    "\n",
    "def generate_random_timestamp(precision=0):\n",
    "    # 获取当前时间\n",
    "    current_time = datetime.datetime.now()\n",
    "\n",
    "    # 生成随机的年份、月份、日期、小时、分钟和秒数\n",
    "    year = random.randint(1970, current_time.year)\n",
    "    month = random.randint(1, 12)\n",
    "    day = random.randint(1, 28)  # 假设每个月最大为28天\n",
    "    hour = random.randint(0, 23)\n",
    "    minute = random.randint(0, 59)\n",
    "    second = random.randint(0, 59)\n",
    "\n",
    "    # 生成随机的微秒数\n",
    "    microsecond = random.randint(0, 999999)\n",
    "\n",
    "    # 根据精度截断微秒数\n",
    "    microsecond = microsecond // (10 ** (6 - precision))\n",
    "\n",
    "    # 创建时间戳\n",
    "    timestamp = datetime.datetime(year, month, day, hour, minute, second, microsecond)\n",
    "\n",
    "    return timestamp\n",
    "\n",
    "# 测试示例\n",
    "for precision in range(7):\n",
    "    random_timestamp = generate_random_timestamp(precision)\n",
    "    print(f\"timestamp({precision}): {random_timestamp}\")"
   ]
  },
  {
   "cell_type": "code",
   "execution_count": null,
   "metadata": {
    "pycharm": {
     "name": "#%%\n"
    }
   },
   "outputs": [],
   "source": [
    "-- 创建表 \"a\"\n",
    "CREATE TABLE a (\n",
    "  col_timestamp_0 TIMESTAMP(0),\n",
    "  col_timestamp_1 TIMESTAMP(1),\n",
    "  col_timestamp_2 TIMESTAMP(2),\n",
    "  col_timestamp_3 TIMESTAMP(3),\n",
    "  col_timestamp_4 TIMESTAMP(4),\n",
    "  col_timestamp_5 TIMESTAMP(5),\n",
    "  col_timestamp_6 TIMESTAMP(6)\n",
    ");\n",
    "\n",
    "-- 插入数据\n",
    "INSERT INTO a\n",
    "VALUES (\n",
    "  '2023-08-27 12:34:56',\n",
    "  '2023-08-27 12:34:56.1',\n",
    "  '2023-08-27 12:34:56.12',\n",
    "  '2023-08-27 12:34:56.123',\n",
    "  '2023-08-27 12:34:56.1234',\n",
    "  '2023-08-27 12:34:56.12345',\n",
    "  '2023-08-27 12:34:56.123456'\n",
    ");"
   ]
  },
  {
   "cell_type": "code",
   "execution_count": 1,
   "metadata": {
    "pycharm": {
     "name": "#%%\n"
    }
   },
   "outputs": [
    {
     "name": "stdout",
     "output_type": "stream",
     "text": [
      "fatal error : sql syntax incorrect.\n",
      "wrong sql : {x}\n"
     ]
    }
   ],
   "source": [
    "import psqlparse\n",
    "x=\"ans\"\n",
    "try:\n",
    "    statements=psqlparse.parse(x)\n",
    "except Exception as e:\n",
    "    print(\"fatal error : sql syntax incorrect.\")\n",
    "    print(\"wrong sql : {x}\")"
   ]
  },
  {
   "cell_type": "code",
   "execution_count": 2,
   "metadata": {
    "pycharm": {
     "name": "#%%\n"
    }
   },
   "outputs": [
    {
     "name": "stdout",
     "output_type": "stream",
     "text": [
      "2000-10-15 00:53:23.000077\n"
     ]
    }
   ],
   "source": [
    "import datetime\n",
    "import random\n",
    "def rand_timestamp_sampling2(timestamp1, timestamp2, precision=0):\n",
    "    # 获取两个时间戳之间的时间差\n",
    "    time_diff = (timestamp2 - timestamp1).total_seconds()\n",
    "    # 生成一个随机的时间差（秒数）\n",
    "    random_seconds = random.uniform(0, time_diff)\n",
    "    # 创建一个时间间隔对象，以便添加到timestamp1\n",
    "    time_interval = datetime.timedelta(seconds=random_seconds)\n",
    "    # 添加时间间隔以生成随机时间戳\n",
    "    random_timestamp = timestamp1 + time_interval\n",
    "    # 根据精度截断微秒数\n",
    "    microsecond = random_timestamp.microsecond // (10 ** (6 - precision))\n",
    "    random_timestamp = random_timestamp.replace(microsecond=microsecond)\n",
    "\n",
    "    return random_timestamp\n",
    "\n",
    "print(rand_timestamp_sampling2(\n",
    "    timestamp1=datetime.datetime(2000,10,14,2,30),timestamp2=datetime.datetime(2000,10,15,4,40),precision=2)\n",
    ")\n"
   ]
  },
  {
   "cell_type": "code",
   "execution_count": 3,
   "metadata": {
    "pycharm": {
     "name": "#%%\n"
    }
   },
   "outputs": [
    {
     "name": "stdout",
     "output_type": "stream",
     "text": [
      "<re.Match object; span=(0, 7), match='select '>\n",
      "None\n"
     ]
    }
   ],
   "source": [
    "import re\n",
    "print(re.search(pattern=r\"select *\",string=\"select dsdad\",flags=re.DOTALL))\n",
    "print(re.search(pattern=r\"select *\",string=\"selct dsdad\",flags=re.DOTALL))"
   ]
  },
  {
   "cell_type": "code",
   "execution_count": 2,
   "metadata": {
    "pycharm": {
     "name": "#%%\n"
    }
   },
   "outputs": [
    {
     "name": "stdout",
     "output_type": "stream",
     "text": [
      "1\n"
     ]
    }
   ],
   "source": [
    "def test(t1):\n",
    "    if t1==\"false\":\n",
    "        x=1\n",
    "    else:\n",
    "        x=2\n",
    "    return x\n",
    "print(test(\"false\"))"
   ]
  },
  {
   "cell_type": "code",
   "execution_count": 8,
   "metadata": {
    "pycharm": {
     "name": "#%%\n"
    }
   },
   "outputs": [
    {
     "name": "stdout",
     "output_type": "stream",
     "text": [
      "2021-01-01 00:00:00\n",
      "0\n"
     ]
    }
   ],
   "source": [
    "import datetime\n",
    "ss=\"2021-1-1\"\n",
    "ans=datetime.datetime.strptime(ss,\"%Y-%m-%d\")\n",
    "print(ans)\n",
    "print(ans.second)"
   ]
  },
  {
   "cell_type": "code",
   "execution_count": 1,
   "metadata": {
    "pycharm": {
     "name": "#%%\n"
    }
   },
   "outputs": [],
   "source": [
    "def rand_num_sampling(l,r,pdg):\n",
    "    # 先检查概率分布图和区间是否对应\n",
    "    if r-l+1 != len(pdg):\n",
    "        print(\"l is \"+str(l)+\" r is \"+str(r)+\" and pdg is \"+str(pdg))\n",
    "        print(\"error : pdg not match [l,r]\")\n",
    "        return l-1\n",
    "    one_=sum(pdg)\n",
    "    \n",
    "    # 检查概率分布和是否为1\n",
    "    if abs(one_-1.0)>1e-5:\n",
    "        print(\"error : probability sum \"+str(one_)+\" do not equal 1\")\n",
    "        return l-1\n",
    "    pdg_=np.array(pdg)\n",
    "    pdg_=[round(i*10000000) for i in pdg_]\n",
    "    maxv=sum(pdg_)\n",
    "    num=random.randint(0,maxv-1)\n",
    "    index=0\n",
    "    for i in range(len(pdg_)):\n",
    "        num=num-pdg_[i]\n",
    "        if num<0:\n",
    "            index=i\n",
    "            break\n",
    "    # 返回采样值\n",
    "    return l+index"
   ]
  },
  {
   "cell_type": "code",
   "execution_count": 16,
   "metadata": {
    "pycharm": {
     "name": "#%%\n"
    }
   },
   "outputs": [
    {
     "name": "stdout",
     "output_type": "stream",
     "text": [
      "0.7\n"
     ]
    }
   ],
   "source": [
    "import numpy as np\n",
    "import random\n",
    "def rand_decimal_sampling(precision):\n",
    "    if precision==0:\n",
    "        return 0\n",
    "    rand_int=rand_num_sampling(0,10**precision-1,np.full(10**precision,1.0/(10**precision)))\n",
    "    return rand_int/(10**precision)\n",
    "\n",
    "print(rand_decimal_sampling(1))"
   ]
  }
 ],
 "metadata": {
  "kernelspec": {
   "display_name": "base",
   "language": "python",
   "name": "python3"
  },
  "language_info": {
   "codemirror_mode": {
    "name": "ipython",
    "version": 3
   },
   "file_extension": ".py",
   "mimetype": "text/x-python",
   "name": "python",
   "nbconvert_exporter": "python",
   "pygments_lexer": "ipython3",
   "version": "3.8.8"
  },
  "orig_nbformat": 4
 },
 "nbformat": 4,
 "nbformat_minor": 2
}